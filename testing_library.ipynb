{
 "cells": [
  {
   "cell_type": "markdown",
   "metadata": {},
   "source": [
    "### Defining `Vector` class and basic operations "
   ]
  },
  {
   "cell_type": "code",
   "execution_count": 8,
   "metadata": {},
   "outputs": [],
   "source": [
    "class Vector(object):\n",
    "    def __init__(self, coordinates):\n",
    "        try: \n",
    "            if not coordinates:\n",
    "                raise ValueError\n",
    "            self.coordinates = tuple(coordinates)\n",
    "            self.dimension = len(coordinates)\n",
    "        \n",
    "        except ValueError:\n",
    "            raise ValueError(\"The coordinates must be nonempty\")\n",
    "            \n",
    "        except TypeError:\n",
    "            raise TypeError(\"The coordinates must be an iterable\")\n",
    "            \n",
    "    def __str__(self):\n",
    "        return \"Vector: {}\".format(self.coordinates)\n",
    "    \n",
    "    def __er__(self, v):\n",
    "        return self.coordinates == v.coordinates\n",
    "    \n",
    "    def plus(self, v):\n",
    "        new_coordinates = []\n",
    "        for i in range(len(self.coordinates)):\n",
    "            new_coordinates.append(self.coordinates[i] + v.coordinates[i])\n",
    "        return Vector(new_coordinates)\n",
    "    \n",
    "    def minus(self, v):\n",
    "        new_coordinates = [x - y for z,y in zip(self.coordinates, v.coordinates)]\n",
    "        return Vector(new_coordinates)\n",
    "    \n",
    "    def times_scalar(self, c):\n",
    "        new_coordinates = [c * x for x in self.coordinates]\n",
    "        return Vector(new_coordinates)"
   ]
  },
  {
   "cell_type": "code",
   "execution_count": 11,
   "metadata": {},
   "outputs": [],
   "source": [
    "vector = Vector([3.32, 2])"
   ]
  },
  {
   "cell_type": "code",
   "execution_count": 14,
   "metadata": {},
   "outputs": [
    {
     "data": {
      "text/plain": [
       "'Vector: (3.32, 2)'"
      ]
     },
     "execution_count": 14,
     "metadata": {},
     "output_type": "execute_result"
    }
   ],
   "source": [
    "vector.__str__()"
   ]
  },
  {
   "cell_type": "code",
   "execution_count": 18,
   "metadata": {},
   "outputs": [
    {
     "data": {
      "text/plain": [
       "'Vector: (996.0, 600)'"
      ]
     },
     "execution_count": 18,
     "metadata": {},
     "output_type": "execute_result"
    }
   ],
   "source": [
    "vector.times_scalar(300).__str__()"
   ]
  },
  {
   "cell_type": "code",
   "execution_count": null,
   "metadata": {},
   "outputs": [],
   "source": []
  }
 ],
 "metadata": {
  "kernelspec": {
   "display_name": "Python 3",
   "language": "python",
   "name": "python3"
  },
  "language_info": {
   "codemirror_mode": {
    "name": "ipython",
    "version": 3
   },
   "file_extension": ".py",
   "mimetype": "text/x-python",
   "name": "python",
   "nbconvert_exporter": "python",
   "pygments_lexer": "ipython3",
   "version": "3.8.3"
  }
 },
 "nbformat": 4,
 "nbformat_minor": 4
}
